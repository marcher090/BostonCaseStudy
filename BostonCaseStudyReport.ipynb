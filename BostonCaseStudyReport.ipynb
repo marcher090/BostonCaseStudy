{
 "cells": [
  {
   "cell_type": "markdown",
   "id": "a9cf2080",
   "metadata": {},
   "source": [
    "# Boston Housing Case Scenario Project  \n",
    "Statistics for Data Science <br>\n",
    "Matthew Archer <br>\n"
   ]
  },
  {
   "cell_type": "markdown",
   "id": "f0785aef",
   "metadata": {},
   "source": [
    "### Task 1: Understand the data\n",
    "Before analyzing and visualizing the data and developing insights, the relevant libraries need to be imported, the data has to be loaded into a Dataframe, and an initial review of the data and it's contents need to be conducted. These initial tasks are executed in the following code. \n",
    "\n",
    "Furthermore, here is a list of the definitions of each column in the dataset:          <br>\n",
    "·      CRIM - per capita crime rate by town<br>\n",
    "·      ZN - proportion of residential land zoned for lots over 25,000 sq.ft.<br>\n",
    "·      INDUS - proportion of non-retail business acres per town.<br>\n",
    "·      CHAS - Charles River dummy variable (1 if tract bounds river; 0 otherwise)<br>\n",
    "·      NOX - nitric oxides concentration (parts per 10 million)<br>\n",
    "·      RM - average number of rooms per dwelling<br>\n",
    "·      AGE - proportion of owner-occupied units built prior to 1940<br>\n",
    "·      DIS - weighted distances to five Boston employment centres<br>\n",
    "·      RAD - index of accessibility to radial highways<br>\n",
    "·      TAX - full-value property-tax rate per $10,000<br>\n",
    "·      PTRATIO - pupil-teacher ratio by town<br>\n",
    "·      LSTAT - % lower status of the population<br>\n",
    "·      MEDV - Median value of owner-occupied homes in $1000's<br>"
   ]
  },
  {
   "cell_type": "code",
   "execution_count": 2,
   "id": "d4ba1ef0",
   "metadata": {},
   "outputs": [],
   "source": [
    "#import relevant libraries \n",
    "import numpy as np\n",
    "import pandas as pd\n",
    "import seaborn as sns\n",
    "import matplotlib.pyplot as plt \n",
    "import scipy.stats\n",
    "import statsmodels.api as sm"
   ]
  },
  {
   "cell_type": "code",
   "execution_count": 3,
   "id": "e252082c",
   "metadata": {},
   "outputs": [],
   "source": [
    "#read the data into a dataframe \n",
    "boston_url = 'https://cf-courses-data.s3.us.cloud-object-storage.appdomain.cloud/IBMDeveloperSkillsNetwork-ST0151EN-SkillsNetwork/labs/boston_housing.csv'\n",
    "boston_df = pd.read_csv(boston_url)"
   ]
  },
  {
   "cell_type": "code",
   "execution_count": 4,
   "id": "a669a20f",
   "metadata": {},
   "outputs": [
    {
     "data": {
      "application/vnd.microsoft.datawrangler.viewer.v0+json": {
       "columns": [
        {
         "name": "index",
         "rawType": "object",
         "type": "string"
        },
        {
         "name": "Unnamed: 0",
         "rawType": "float64",
         "type": "float"
        },
        {
         "name": "CRIM",
         "rawType": "float64",
         "type": "float"
        },
        {
         "name": "ZN",
         "rawType": "float64",
         "type": "float"
        },
        {
         "name": "INDUS",
         "rawType": "float64",
         "type": "float"
        },
        {
         "name": "CHAS",
         "rawType": "float64",
         "type": "float"
        },
        {
         "name": "NOX",
         "rawType": "float64",
         "type": "float"
        },
        {
         "name": "RM",
         "rawType": "float64",
         "type": "float"
        },
        {
         "name": "AGE",
         "rawType": "float64",
         "type": "float"
        },
        {
         "name": "DIS",
         "rawType": "float64",
         "type": "float"
        },
        {
         "name": "RAD",
         "rawType": "float64",
         "type": "float"
        },
        {
         "name": "TAX",
         "rawType": "float64",
         "type": "float"
        },
        {
         "name": "PTRATIO",
         "rawType": "float64",
         "type": "float"
        },
        {
         "name": "LSTAT",
         "rawType": "float64",
         "type": "float"
        },
        {
         "name": "MEDV",
         "rawType": "float64",
         "type": "float"
        }
       ],
       "ref": "6feb773b-f3ee-4591-94d4-b063a1c88986",
       "rows": [
        [
         "count",
         "506.0",
         "506.0",
         "506.0",
         "506.0",
         "506.0",
         "506.0",
         "506.0",
         "506.0",
         "506.0",
         "506.0",
         "506.0",
         "506.0",
         "506.0",
         "506.0"
        ],
        [
         "mean",
         "252.5",
         "3.613523557312254",
         "11.363636363636363",
         "11.13677865612648",
         "0.0691699604743083",
         "0.5546950592885376",
         "6.284634387351779",
         "68.57490118577076",
         "3.795042687747036",
         "9.549407114624506",
         "408.2371541501976",
         "18.455533596837945",
         "12.653063241106722",
         "22.532806324110677"
        ],
        [
         "std",
         "146.2138844296259",
         "8.60154510533249",
         "23.32245299451514",
         "6.860352940897585",
         "0.25399404134041037",
         "0.11587767566755595",
         "0.7026171434153233",
         "28.148861406903617",
         "2.105710126627611",
         "8.707259384239366",
         "168.53711605495903",
         "2.1649455237144406",
         "7.141061511348571",
         "9.197104087379818"
        ],
        [
         "min",
         "0.0",
         "0.00632",
         "0.0",
         "0.46",
         "0.0",
         "0.385",
         "3.561",
         "2.9",
         "1.1296",
         "1.0",
         "187.0",
         "12.6",
         "1.73",
         "5.0"
        ],
        [
         "25%",
         "126.25",
         "0.08204499999999999",
         "0.0",
         "5.19",
         "0.0",
         "0.449",
         "5.8854999999999995",
         "45.025",
         "2.100175",
         "4.0",
         "279.0",
         "17.4",
         "6.949999999999999",
         "17.025"
        ],
        [
         "50%",
         "252.5",
         "0.25651",
         "0.0",
         "9.69",
         "0.0",
         "0.538",
         "6.2085",
         "77.5",
         "3.2074499999999997",
         "5.0",
         "330.0",
         "19.05",
         "11.36",
         "21.2"
        ],
        [
         "75%",
         "378.75",
         "3.6770825",
         "12.5",
         "18.1",
         "0.0",
         "0.624",
         "6.6235",
         "94.07499999999999",
         "5.1884250000000005",
         "24.0",
         "666.0",
         "20.2",
         "16.955000000000002",
         "25.0"
        ],
        [
         "max",
         "505.0",
         "88.9762",
         "100.0",
         "27.74",
         "1.0",
         "0.871",
         "8.78",
         "100.0",
         "12.1265",
         "24.0",
         "711.0",
         "22.0",
         "37.97",
         "50.0"
        ]
       ],
       "shape": {
        "columns": 14,
        "rows": 8
       }
      },
      "text/html": [
       "<div>\n",
       "<style scoped>\n",
       "    .dataframe tbody tr th:only-of-type {\n",
       "        vertical-align: middle;\n",
       "    }\n",
       "\n",
       "    .dataframe tbody tr th {\n",
       "        vertical-align: top;\n",
       "    }\n",
       "\n",
       "    .dataframe thead th {\n",
       "        text-align: right;\n",
       "    }\n",
       "</style>\n",
       "<table border=\"1\" class=\"dataframe\">\n",
       "  <thead>\n",
       "    <tr style=\"text-align: right;\">\n",
       "      <th></th>\n",
       "      <th>Unnamed: 0</th>\n",
       "      <th>CRIM</th>\n",
       "      <th>ZN</th>\n",
       "      <th>INDUS</th>\n",
       "      <th>CHAS</th>\n",
       "      <th>NOX</th>\n",
       "      <th>RM</th>\n",
       "      <th>AGE</th>\n",
       "      <th>DIS</th>\n",
       "      <th>RAD</th>\n",
       "      <th>TAX</th>\n",
       "      <th>PTRATIO</th>\n",
       "      <th>LSTAT</th>\n",
       "      <th>MEDV</th>\n",
       "    </tr>\n",
       "  </thead>\n",
       "  <tbody>\n",
       "    <tr>\n",
       "      <th>count</th>\n",
       "      <td>506.000000</td>\n",
       "      <td>506.000000</td>\n",
       "      <td>506.000000</td>\n",
       "      <td>506.000000</td>\n",
       "      <td>506.000000</td>\n",
       "      <td>506.000000</td>\n",
       "      <td>506.000000</td>\n",
       "      <td>506.000000</td>\n",
       "      <td>506.000000</td>\n",
       "      <td>506.000000</td>\n",
       "      <td>506.000000</td>\n",
       "      <td>506.000000</td>\n",
       "      <td>506.000000</td>\n",
       "      <td>506.000000</td>\n",
       "    </tr>\n",
       "    <tr>\n",
       "      <th>mean</th>\n",
       "      <td>252.500000</td>\n",
       "      <td>3.613524</td>\n",
       "      <td>11.363636</td>\n",
       "      <td>11.136779</td>\n",
       "      <td>0.069170</td>\n",
       "      <td>0.554695</td>\n",
       "      <td>6.284634</td>\n",
       "      <td>68.574901</td>\n",
       "      <td>3.795043</td>\n",
       "      <td>9.549407</td>\n",
       "      <td>408.237154</td>\n",
       "      <td>18.455534</td>\n",
       "      <td>12.653063</td>\n",
       "      <td>22.532806</td>\n",
       "    </tr>\n",
       "    <tr>\n",
       "      <th>std</th>\n",
       "      <td>146.213884</td>\n",
       "      <td>8.601545</td>\n",
       "      <td>23.322453</td>\n",
       "      <td>6.860353</td>\n",
       "      <td>0.253994</td>\n",
       "      <td>0.115878</td>\n",
       "      <td>0.702617</td>\n",
       "      <td>28.148861</td>\n",
       "      <td>2.105710</td>\n",
       "      <td>8.707259</td>\n",
       "      <td>168.537116</td>\n",
       "      <td>2.164946</td>\n",
       "      <td>7.141062</td>\n",
       "      <td>9.197104</td>\n",
       "    </tr>\n",
       "    <tr>\n",
       "      <th>min</th>\n",
       "      <td>0.000000</td>\n",
       "      <td>0.006320</td>\n",
       "      <td>0.000000</td>\n",
       "      <td>0.460000</td>\n",
       "      <td>0.000000</td>\n",
       "      <td>0.385000</td>\n",
       "      <td>3.561000</td>\n",
       "      <td>2.900000</td>\n",
       "      <td>1.129600</td>\n",
       "      <td>1.000000</td>\n",
       "      <td>187.000000</td>\n",
       "      <td>12.600000</td>\n",
       "      <td>1.730000</td>\n",
       "      <td>5.000000</td>\n",
       "    </tr>\n",
       "    <tr>\n",
       "      <th>25%</th>\n",
       "      <td>126.250000</td>\n",
       "      <td>0.082045</td>\n",
       "      <td>0.000000</td>\n",
       "      <td>5.190000</td>\n",
       "      <td>0.000000</td>\n",
       "      <td>0.449000</td>\n",
       "      <td>5.885500</td>\n",
       "      <td>45.025000</td>\n",
       "      <td>2.100175</td>\n",
       "      <td>4.000000</td>\n",
       "      <td>279.000000</td>\n",
       "      <td>17.400000</td>\n",
       "      <td>6.950000</td>\n",
       "      <td>17.025000</td>\n",
       "    </tr>\n",
       "    <tr>\n",
       "      <th>50%</th>\n",
       "      <td>252.500000</td>\n",
       "      <td>0.256510</td>\n",
       "      <td>0.000000</td>\n",
       "      <td>9.690000</td>\n",
       "      <td>0.000000</td>\n",
       "      <td>0.538000</td>\n",
       "      <td>6.208500</td>\n",
       "      <td>77.500000</td>\n",
       "      <td>3.207450</td>\n",
       "      <td>5.000000</td>\n",
       "      <td>330.000000</td>\n",
       "      <td>19.050000</td>\n",
       "      <td>11.360000</td>\n",
       "      <td>21.200000</td>\n",
       "    </tr>\n",
       "    <tr>\n",
       "      <th>75%</th>\n",
       "      <td>378.750000</td>\n",
       "      <td>3.677083</td>\n",
       "      <td>12.500000</td>\n",
       "      <td>18.100000</td>\n",
       "      <td>0.000000</td>\n",
       "      <td>0.624000</td>\n",
       "      <td>6.623500</td>\n",
       "      <td>94.075000</td>\n",
       "      <td>5.188425</td>\n",
       "      <td>24.000000</td>\n",
       "      <td>666.000000</td>\n",
       "      <td>20.200000</td>\n",
       "      <td>16.955000</td>\n",
       "      <td>25.000000</td>\n",
       "    </tr>\n",
       "    <tr>\n",
       "      <th>max</th>\n",
       "      <td>505.000000</td>\n",
       "      <td>88.976200</td>\n",
       "      <td>100.000000</td>\n",
       "      <td>27.740000</td>\n",
       "      <td>1.000000</td>\n",
       "      <td>0.871000</td>\n",
       "      <td>8.780000</td>\n",
       "      <td>100.000000</td>\n",
       "      <td>12.126500</td>\n",
       "      <td>24.000000</td>\n",
       "      <td>711.000000</td>\n",
       "      <td>22.000000</td>\n",
       "      <td>37.970000</td>\n",
       "      <td>50.000000</td>\n",
       "    </tr>\n",
       "  </tbody>\n",
       "</table>\n",
       "</div>"
      ],
      "text/plain": [
       "       Unnamed: 0        CRIM          ZN       INDUS        CHAS         NOX  \\\n",
       "count  506.000000  506.000000  506.000000  506.000000  506.000000  506.000000   \n",
       "mean   252.500000    3.613524   11.363636   11.136779    0.069170    0.554695   \n",
       "std    146.213884    8.601545   23.322453    6.860353    0.253994    0.115878   \n",
       "min      0.000000    0.006320    0.000000    0.460000    0.000000    0.385000   \n",
       "25%    126.250000    0.082045    0.000000    5.190000    0.000000    0.449000   \n",
       "50%    252.500000    0.256510    0.000000    9.690000    0.000000    0.538000   \n",
       "75%    378.750000    3.677083   12.500000   18.100000    0.000000    0.624000   \n",
       "max    505.000000   88.976200  100.000000   27.740000    1.000000    0.871000   \n",
       "\n",
       "               RM         AGE         DIS         RAD         TAX     PTRATIO  \\\n",
       "count  506.000000  506.000000  506.000000  506.000000  506.000000  506.000000   \n",
       "mean     6.284634   68.574901    3.795043    9.549407  408.237154   18.455534   \n",
       "std      0.702617   28.148861    2.105710    8.707259  168.537116    2.164946   \n",
       "min      3.561000    2.900000    1.129600    1.000000  187.000000   12.600000   \n",
       "25%      5.885500   45.025000    2.100175    4.000000  279.000000   17.400000   \n",
       "50%      6.208500   77.500000    3.207450    5.000000  330.000000   19.050000   \n",
       "75%      6.623500   94.075000    5.188425   24.000000  666.000000   20.200000   \n",
       "max      8.780000  100.000000   12.126500   24.000000  711.000000   22.000000   \n",
       "\n",
       "            LSTAT        MEDV  \n",
       "count  506.000000  506.000000  \n",
       "mean    12.653063   22.532806  \n",
       "std      7.141062    9.197104  \n",
       "min      1.730000    5.000000  \n",
       "25%      6.950000   17.025000  \n",
       "50%     11.360000   21.200000  \n",
       "75%     16.955000   25.000000  \n",
       "max     37.970000   50.000000  "
      ]
     },
     "execution_count": 4,
     "metadata": {},
     "output_type": "execute_result"
    }
   ],
   "source": [
    "#explore the data \n",
    "boston_df.describe()"
   ]
  },
  {
   "cell_type": "code",
   "execution_count": 5,
   "id": "c6a2f4e3",
   "metadata": {},
   "outputs": [
    {
     "data": {
      "application/vnd.microsoft.datawrangler.viewer.v0+json": {
       "columns": [
        {
         "name": "index",
         "rawType": "int64",
         "type": "integer"
        },
        {
         "name": "Unnamed: 0",
         "rawType": "int64",
         "type": "integer"
        },
        {
         "name": "CRIM",
         "rawType": "float64",
         "type": "float"
        },
        {
         "name": "ZN",
         "rawType": "float64",
         "type": "float"
        },
        {
         "name": "INDUS",
         "rawType": "float64",
         "type": "float"
        },
        {
         "name": "CHAS",
         "rawType": "float64",
         "type": "float"
        },
        {
         "name": "NOX",
         "rawType": "float64",
         "type": "float"
        },
        {
         "name": "RM",
         "rawType": "float64",
         "type": "float"
        },
        {
         "name": "AGE",
         "rawType": "float64",
         "type": "float"
        },
        {
         "name": "DIS",
         "rawType": "float64",
         "type": "float"
        },
        {
         "name": "RAD",
         "rawType": "float64",
         "type": "float"
        },
        {
         "name": "TAX",
         "rawType": "float64",
         "type": "float"
        },
        {
         "name": "PTRATIO",
         "rawType": "float64",
         "type": "float"
        },
        {
         "name": "LSTAT",
         "rawType": "float64",
         "type": "float"
        },
        {
         "name": "MEDV",
         "rawType": "float64",
         "type": "float"
        }
       ],
       "ref": "7feef9a4-6a0c-40d1-a2c6-b3af5ea219f5",
       "rows": [
        [
         "0",
         "0",
         "0.00632",
         "18.0",
         "2.31",
         "0.0",
         "0.538",
         "6.575",
         "65.2",
         "4.09",
         "1.0",
         "296.0",
         "15.3",
         "4.98",
         "24.0"
        ],
        [
         "1",
         "1",
         "0.02731",
         "0.0",
         "7.07",
         "0.0",
         "0.469",
         "6.421",
         "78.9",
         "4.9671",
         "2.0",
         "242.0",
         "17.8",
         "9.14",
         "21.6"
        ],
        [
         "2",
         "2",
         "0.02729",
         "0.0",
         "7.07",
         "0.0",
         "0.469",
         "7.185",
         "61.1",
         "4.9671",
         "2.0",
         "242.0",
         "17.8",
         "4.03",
         "34.7"
        ],
        [
         "3",
         "3",
         "0.03237",
         "0.0",
         "2.18",
         "0.0",
         "0.458",
         "6.998",
         "45.8",
         "6.0622",
         "3.0",
         "222.0",
         "18.7",
         "2.94",
         "33.4"
        ],
        [
         "4",
         "4",
         "0.06905",
         "0.0",
         "2.18",
         "0.0",
         "0.458",
         "7.147",
         "54.2",
         "6.0622",
         "3.0",
         "222.0",
         "18.7",
         "5.33",
         "36.2"
        ]
       ],
       "shape": {
        "columns": 14,
        "rows": 5
       }
      },
      "text/html": [
       "<div>\n",
       "<style scoped>\n",
       "    .dataframe tbody tr th:only-of-type {\n",
       "        vertical-align: middle;\n",
       "    }\n",
       "\n",
       "    .dataframe tbody tr th {\n",
       "        vertical-align: top;\n",
       "    }\n",
       "\n",
       "    .dataframe thead th {\n",
       "        text-align: right;\n",
       "    }\n",
       "</style>\n",
       "<table border=\"1\" class=\"dataframe\">\n",
       "  <thead>\n",
       "    <tr style=\"text-align: right;\">\n",
       "      <th></th>\n",
       "      <th>Unnamed: 0</th>\n",
       "      <th>CRIM</th>\n",
       "      <th>ZN</th>\n",
       "      <th>INDUS</th>\n",
       "      <th>CHAS</th>\n",
       "      <th>NOX</th>\n",
       "      <th>RM</th>\n",
       "      <th>AGE</th>\n",
       "      <th>DIS</th>\n",
       "      <th>RAD</th>\n",
       "      <th>TAX</th>\n",
       "      <th>PTRATIO</th>\n",
       "      <th>LSTAT</th>\n",
       "      <th>MEDV</th>\n",
       "    </tr>\n",
       "  </thead>\n",
       "  <tbody>\n",
       "    <tr>\n",
       "      <th>0</th>\n",
       "      <td>0</td>\n",
       "      <td>0.00632</td>\n",
       "      <td>18.0</td>\n",
       "      <td>2.31</td>\n",
       "      <td>0.0</td>\n",
       "      <td>0.538</td>\n",
       "      <td>6.575</td>\n",
       "      <td>65.2</td>\n",
       "      <td>4.0900</td>\n",
       "      <td>1.0</td>\n",
       "      <td>296.0</td>\n",
       "      <td>15.3</td>\n",
       "      <td>4.98</td>\n",
       "      <td>24.0</td>\n",
       "    </tr>\n",
       "    <tr>\n",
       "      <th>1</th>\n",
       "      <td>1</td>\n",
       "      <td>0.02731</td>\n",
       "      <td>0.0</td>\n",
       "      <td>7.07</td>\n",
       "      <td>0.0</td>\n",
       "      <td>0.469</td>\n",
       "      <td>6.421</td>\n",
       "      <td>78.9</td>\n",
       "      <td>4.9671</td>\n",
       "      <td>2.0</td>\n",
       "      <td>242.0</td>\n",
       "      <td>17.8</td>\n",
       "      <td>9.14</td>\n",
       "      <td>21.6</td>\n",
       "    </tr>\n",
       "    <tr>\n",
       "      <th>2</th>\n",
       "      <td>2</td>\n",
       "      <td>0.02729</td>\n",
       "      <td>0.0</td>\n",
       "      <td>7.07</td>\n",
       "      <td>0.0</td>\n",
       "      <td>0.469</td>\n",
       "      <td>7.185</td>\n",
       "      <td>61.1</td>\n",
       "      <td>4.9671</td>\n",
       "      <td>2.0</td>\n",
       "      <td>242.0</td>\n",
       "      <td>17.8</td>\n",
       "      <td>4.03</td>\n",
       "      <td>34.7</td>\n",
       "    </tr>\n",
       "    <tr>\n",
       "      <th>3</th>\n",
       "      <td>3</td>\n",
       "      <td>0.03237</td>\n",
       "      <td>0.0</td>\n",
       "      <td>2.18</td>\n",
       "      <td>0.0</td>\n",
       "      <td>0.458</td>\n",
       "      <td>6.998</td>\n",
       "      <td>45.8</td>\n",
       "      <td>6.0622</td>\n",
       "      <td>3.0</td>\n",
       "      <td>222.0</td>\n",
       "      <td>18.7</td>\n",
       "      <td>2.94</td>\n",
       "      <td>33.4</td>\n",
       "    </tr>\n",
       "    <tr>\n",
       "      <th>4</th>\n",
       "      <td>4</td>\n",
       "      <td>0.06905</td>\n",
       "      <td>0.0</td>\n",
       "      <td>2.18</td>\n",
       "      <td>0.0</td>\n",
       "      <td>0.458</td>\n",
       "      <td>7.147</td>\n",
       "      <td>54.2</td>\n",
       "      <td>6.0622</td>\n",
       "      <td>3.0</td>\n",
       "      <td>222.0</td>\n",
       "      <td>18.7</td>\n",
       "      <td>5.33</td>\n",
       "      <td>36.2</td>\n",
       "    </tr>\n",
       "  </tbody>\n",
       "</table>\n",
       "</div>"
      ],
      "text/plain": [
       "   Unnamed: 0     CRIM    ZN  INDUS  CHAS    NOX     RM   AGE     DIS  RAD  \\\n",
       "0           0  0.00632  18.0   2.31   0.0  0.538  6.575  65.2  4.0900  1.0   \n",
       "1           1  0.02731   0.0   7.07   0.0  0.469  6.421  78.9  4.9671  2.0   \n",
       "2           2  0.02729   0.0   7.07   0.0  0.469  7.185  61.1  4.9671  2.0   \n",
       "3           3  0.03237   0.0   2.18   0.0  0.458  6.998  45.8  6.0622  3.0   \n",
       "4           4  0.06905   0.0   2.18   0.0  0.458  7.147  54.2  6.0622  3.0   \n",
       "\n",
       "     TAX  PTRATIO  LSTAT  MEDV  \n",
       "0  296.0     15.3   4.98  24.0  \n",
       "1  242.0     17.8   9.14  21.6  \n",
       "2  242.0     17.8   4.03  34.7  \n",
       "3  222.0     18.7   2.94  33.4  \n",
       "4  222.0     18.7   5.33  36.2  "
      ]
     },
     "execution_count": 5,
     "metadata": {},
     "output_type": "execute_result"
    }
   ],
   "source": [
    "boston_df.head()"
   ]
  },
  {
   "cell_type": "code",
   "execution_count": 6,
   "id": "6af0f1fb",
   "metadata": {},
   "outputs": [
    {
     "data": {
      "text/plain": [
       "(506, 14)"
      ]
     },
     "execution_count": 6,
     "metadata": {},
     "output_type": "execute_result"
    }
   ],
   "source": [
    "boston_df.shape"
   ]
  },
  {
   "cell_type": "code",
   "execution_count": 7,
   "id": "a5d04715",
   "metadata": {},
   "outputs": [
    {
     "data": {
      "application/vnd.microsoft.datawrangler.viewer.v0+json": {
       "columns": [
        {
         "name": "index",
         "rawType": "object",
         "type": "string"
        },
        {
         "name": "0",
         "rawType": "object",
         "type": "unknown"
        }
       ],
       "ref": "01392da5-515e-48bf-9dc5-ee5a308371ac",
       "rows": [
        [
         "Unnamed: 0",
         "int64"
        ],
        [
         "CRIM",
         "float64"
        ],
        [
         "ZN",
         "float64"
        ],
        [
         "INDUS",
         "float64"
        ],
        [
         "CHAS",
         "float64"
        ],
        [
         "NOX",
         "float64"
        ],
        [
         "RM",
         "float64"
        ],
        [
         "AGE",
         "float64"
        ],
        [
         "DIS",
         "float64"
        ],
        [
         "RAD",
         "float64"
        ],
        [
         "TAX",
         "float64"
        ],
        [
         "PTRATIO",
         "float64"
        ],
        [
         "LSTAT",
         "float64"
        ],
        [
         "MEDV",
         "float64"
        ]
       ],
       "shape": {
        "columns": 1,
        "rows": 14
       }
      },
      "text/plain": [
       "Unnamed: 0      int64\n",
       "CRIM          float64\n",
       "ZN            float64\n",
       "INDUS         float64\n",
       "CHAS          float64\n",
       "NOX           float64\n",
       "RM            float64\n",
       "AGE           float64\n",
       "DIS           float64\n",
       "RAD           float64\n",
       "TAX           float64\n",
       "PTRATIO       float64\n",
       "LSTAT         float64\n",
       "MEDV          float64\n",
       "dtype: object"
      ]
     },
     "execution_count": 7,
     "metadata": {},
     "output_type": "execute_result"
    }
   ],
   "source": [
    "boston_df.dtypes"
   ]
  },
  {
   "cell_type": "markdown",
   "id": "86c25c6b",
   "metadata": {},
   "source": [
    "### Task 1 Response \n",
    "\n",
    "The dataset that is provided has 508 rows of data with 12 independent variables and one dependent variable: the median house value for various towns within the Boston Metropolitan area. "
   ]
  },
  {
   "cell_type": "markdown",
   "id": "38e1c9fc",
   "metadata": {},
   "source": [
    "### **Task 2: Data Visualization**\n",
    "\n",
    "For this task a number of visualizations were generated from the housing data to illustrate the distributions of the variables and any relationships among them. The python code used to generate each visualization along with a description can be found below. "
   ]
  },
  {
   "cell_type": "markdown",
   "id": "ad07a45b",
   "metadata": {},
   "source": [
    "#### Visualization 1 \n",
    "*For the \"Median value of owner-occupied homes\" provide a boxplot*"
   ]
  },
  {
   "cell_type": "code",
   "execution_count": 8,
   "id": "23428494",
   "metadata": {},
   "outputs": [
    {
     "data": {
      "text/plain": [
       "[Text(0.5, 0, 'Median Home Value\\n(Thousands USD)'),\n",
       " Text(0.5, 1.0, 'Median Value of Owner-Occupied Homes')]"
      ]
     },
     "execution_count": 8,
     "metadata": {},
     "output_type": "execute_result"
    },
    {
     "data": {
      "image/png": "[encoded data removed]",
      "text/plain": [
       "<Figure size 640x480 with 1 Axes>"
      ]
     },
     "metadata": {},
     "output_type": "display_data"
    }
   ],
   "source": [
    "#create a boxplot using the MEDV column \n",
    "sns.set_style(\"darkgrid\")\n",
    "sns.boxplot(boston_df, x = 'MEDV').set(xlabel = 'Median Home Value'+'\\n'+'(Thousands USD)', title = 'Median Value of Owner-Occupied Homes')\n"
   ]
  },
  {
   "cell_type": "markdown",
   "id": "f21895da",
   "metadata": {},
   "source": [
    "#### Visualization 1 Review \n",
    "This visualization is a box plot of all the median home values that illustrates the bredth and range of each quartile and identifies the median and any outliers. In particular, this visualization shows that although the median of the median home values is just above $20,000, there are a significant number of outliers on the higher end and that the overall distribution skews to higher home values. "
   ]
  },
  {
   "cell_type": "markdown",
   "id": "c9f0f970",
   "metadata": {},
   "source": [
    "#### Visualization 2\n",
    "*Provide a  bar plot for the Charles river variable*"
   ]
  },
  {
   "cell_type": "code",
   "execution_count": 9,
   "id": "7a05bc78",
   "metadata": {},
   "outputs": [],
   "source": [
    "#isolate the field with the Charles River Variable and change the values in the column. \n",
    "CharlesRiver_df = boston_df[['CHAS']]\n",
    "CharlesRiver_df = CharlesRiver_df.replace({0.0: \"Not Bounded\", 1.0: \"Bounded\"})\n",
    "\n"
   ]
  },
  {
   "cell_type": "code",
   "execution_count": 10,
   "id": "3ad8b03e",
   "metadata": {},
   "outputs": [
    {
     "data": {
      "image/png": "[encoded data removed]",
      "text/plain": [
       "<Figure size 511.111x500 with 1 Axes>"
      ]
     },
     "metadata": {},
     "output_type": "display_data"
    }
   ],
   "source": [
    "sns.set_style(\"darkgrid\" )\n",
    "g = sns.catplot(CharlesRiver_df, x = 'CHAS', kind= 'count').set(xlabel='', title= 'Bounded by Charles River')\n",
    "ax = g.facet_axis(0, 0)  \n",
    "\n",
    "# iterate through the axes containers\n",
    "for c in ax.containers:\n",
    "    labels = [v.get_height() for v in c]\n",
    "    ax.bar_label(c, labels=labels, label_type='edge')"
   ]
  },
  {
   "cell_type": "markdown",
   "id": "fbc2a500",
   "metadata": {},
   "source": [
    "#### Visualization 2 Review \n",
    "The second visual illustrates the count of towns in the Boston Metropolitan area that are either bounded or not bounded by the Charles River. Per the illustration, 35 (6.9%) census tracts were bound by the Charles Rver and 471 (93.1%) were not."
   ]
  },
  {
   "cell_type": "markdown",
   "id": "0870d719",
   "metadata": {},
   "source": [
    "#### Visualization 3 \n",
    "*Provide a boxplot for the MEDV variable vs the AGE variable. (Discretize the age variable into three groups of 35 years and younger, between 35 and 70 years and 70 years and older)*"
   ]
  },
  {
   "cell_type": "code",
   "execution_count": 11,
   "id": "e9a9d825",
   "metadata": {
    "vscode": {
     "languageId": "ruby"
    }
   },
   "outputs": [
    {
     "data": {
      "application/vnd.microsoft.datawrangler.viewer.v0+json": {
       "columns": [
        {
         "name": "age_group",
         "rawType": "object",
         "type": "string"
        },
        {
         "name": "count",
         "rawType": "float64",
         "type": "float"
        },
        {
         "name": "mean",
         "rawType": "float64",
         "type": "float"
        },
        {
         "name": "std",
         "rawType": "float64",
         "type": "float"
        },
        {
         "name": "min",
         "rawType": "float64",
         "type": "float"
        },
        {
         "name": "25%",
         "rawType": "float64",
         "type": "float"
        },
        {
         "name": "50%",
         "rawType": "float64",
         "type": "float"
        },
        {
         "name": "75%",
         "rawType": "float64",
         "type": "float"
        },
        {
         "name": "max",
         "rawType": "float64",
         "type": "float"
        }
       ],
       "ref": "e20f8b52-de57-4795-8fe3-9b0d099bb234",
       "rows": [
        [
         "35-70%",
         "128.0",
         "24.94765625",
         "6.969370161487669",
         "10.2",
         "20.675",
         "22.6",
         "27.425",
         "50.0"
        ],
        [
         "<=35%",
         "91.0",
         "27.77582417582417",
         "7.638198459196755",
         "17.1",
         "23.05",
         "24.8",
         "31.15",
         "50.0"
        ],
        [
         ">=70%",
         "287.0",
         "19.793379790940765",
         "9.51537537919565",
         "5.0",
         "13.8",
         "18.2",
         "22.55",
         "50.0"
        ]
       ],
       "shape": {
        "columns": 8,
        "rows": 3
       }
      },
      "text/html": [
       "<div>\n",
       "<style scoped>\n",
       "    .dataframe tbody tr th:only-of-type {\n",
       "        vertical-align: middle;\n",
       "    }\n",
       "\n",
       "    .dataframe tbody tr th {\n",
       "        vertical-align: top;\n",
       "    }\n",
       "\n",
       "    .dataframe thead th {\n",
       "        text-align: right;\n",
       "    }\n",
       "</style>\n",
       "<table border=\"1\" class=\"dataframe\">\n",
       "  <thead>\n",
       "    <tr style=\"text-align: right;\">\n",
       "      <th></th>\n",
       "      <th>count</th>\n",
       "      <th>mean</th>\n",
       "      <th>std</th>\n",
       "      <th>min</th>\n",
       "      <th>25%</th>\n",
       "      <th>50%</th>\n",
       "      <th>75%</th>\n",
       "      <th>max</th>\n",
       "    </tr>\n",
       "    <tr>\n",
       "      <th>age_group</th>\n",
       "      <th></th>\n",
       "      <th></th>\n",
       "      <th></th>\n",
       "      <th></th>\n",
       "      <th></th>\n",
       "      <th></th>\n",
       "      <th></th>\n",
       "      <th></th>\n",
       "    </tr>\n",
       "  </thead>\n",
       "  <tbody>\n",
       "    <tr>\n",
       "      <th>35-70%</th>\n",
       "      <td>128.0</td>\n",
       "      <td>24.947656</td>\n",
       "      <td>6.969370</td>\n",
       "      <td>10.2</td>\n",
       "      <td>20.675</td>\n",
       "      <td>22.6</td>\n",
       "      <td>27.425</td>\n",
       "      <td>50.0</td>\n",
       "    </tr>\n",
       "    <tr>\n",
       "      <th>&lt;=35%</th>\n",
       "      <td>91.0</td>\n",
       "      <td>27.775824</td>\n",
       "      <td>7.638198</td>\n",
       "      <td>17.1</td>\n",
       "      <td>23.050</td>\n",
       "      <td>24.8</td>\n",
       "      <td>31.150</td>\n",
       "      <td>50.0</td>\n",
       "    </tr>\n",
       "    <tr>\n",
       "      <th>&gt;=70%</th>\n",
       "      <td>287.0</td>\n",
       "      <td>19.793380</td>\n",
       "      <td>9.515375</td>\n",
       "      <td>5.0</td>\n",
       "      <td>13.800</td>\n",
       "      <td>18.2</td>\n",
       "      <td>22.550</td>\n",
       "      <td>50.0</td>\n",
       "    </tr>\n",
       "  </tbody>\n",
       "</table>\n",
       "</div>"
      ],
      "text/plain": [
       "           count       mean       std   min     25%   50%     75%   max\n",
       "age_group                                                              \n",
       "35-70%     128.0  24.947656  6.969370  10.2  20.675  22.6  27.425  50.0\n",
       "<=35%       91.0  27.775824  7.638198  17.1  23.050  24.8  31.150  50.0\n",
       ">=70%      287.0  19.793380  9.515375   5.0  13.800  18.2  22.550  50.0"
      ]
     },
     "execution_count": 11,
     "metadata": {},
     "output_type": "execute_result"
    },
    {
     "data": {
      "image/png": "[encoded data removed]",
      "text/plain": [
       "<Figure size 640x480 with 1 Axes>"
      ]
     },
     "metadata": {},
     "output_type": "display_data"
    }
   ],
   "source": [
    "# Create an \"Age Group\" column that seperates the data into the three percentage groups\n",
    "boston_df.loc[(boston_df['AGE'] <= 35), 'age_group'] = '<=35%'\n",
    "boston_df.loc[(boston_df['AGE'] > 35)&(boston_df['AGE'] < 70), 'age_group'] = '35-70%'\n",
    "boston_df.loc[(boston_df['AGE'] >= 70), 'age_group'] = '>=70%'\n",
    "#Create the boxplots using seaborn where the x axis are the age categories and the y axis is the median home value in thousands USD. \n",
    "ax = sns.boxplot(\n",
    "    x='age_group', \n",
    "    y='MEDV', \n",
    "    hue = 'age_group',\n",
    "    data = boston_df, \n",
    "    order = ['<=35%', '35-70%', '>=70%']\n",
    "    ).set(\n",
    "        xlabel='Porportion of Homes Built Before 1940', \n",
    "        ylabel = 'Median Home Value' + '\\n' + '(Thousands USD)', \n",
    "        title = 'Median Home Value and Proportion of Homes Built Before 1940')\n",
    "ax\n",
    "\n",
    "boston_df.groupby('age_group').MEDV.describe().sort_values(by = 'age_group')"
   ]
  },
  {
   "cell_type": "markdown",
   "id": "a154ba39",
   "metadata": {},
   "source": [
    "#### Visualization 3 Review \n",
    "The above visualization provides an illustration of the relationship between the porportion of homes built prior to 1940 and the median home value. When comparing the distributuion ofhome values between each age group, the following becomes apparant: <br>\n",
    " - The median home value decreases as the share of older homes increases. <br>\n",
    " - The distribution of home values widens as the share of older homes increase. <br>\n",
    " - In all three groups the distribution of values skewed to the higher ended.<br>\n"
   ]
  },
  {
   "cell_type": "markdown",
   "id": "bacede37",
   "metadata": {
    "vscode": {
     "languageId": "ruby"
    }
   },
   "source": [
    "#### Visualization 4\n",
    "*Provide a scatter plot to show the relationship between Nitric oxide concentrations and the proportion of non-retail business acres per town. What can you say about the relationship?*"
   ]
  },
  {
   "cell_type": "code",
   "execution_count": 12,
   "id": "c7e8628c",
   "metadata": {},
   "outputs": [
    {
     "data": {
      "text/plain": [
       "[Text(0, 0.5, 'Nitric Oxide Concentration (PPM)'),\n",
       " Text(0.5, 0, 'Porportion Non-Retail Business Acres'),\n",
       " Text(0.5, 1.0, 'Relationship between the Proportion Non-Retail Business Acres\\nand Nitric Oxide Concentrations')]"
      ]
     },
     "execution_count": 12,
     "metadata": {},
     "output_type": "execute_result"
    },
    {
     "data": {
      "image/png": "[encoded data removed]",
      "text/plain": [
       "<Figure size 640x480 with 1 Axes>"
      ]
     },
     "metadata": {},
     "output_type": "display_data"
    }
   ],
   "source": [
    "# We first plot the scatter plot \n",
    "ax = sns.scatterplot(\n",
    "    y = 'NOX'\n",
    "    ,x = 'INDUS'\n",
    "    ,data = boston_df\n",
    ").set(\n",
    "    ylabel = 'Nitric Oxide Concentration (PPM)'\n",
    "    ,xlabel = 'Porportion Non-Retail Business Acres'\n",
    "    ,title = 'Relationship between the Proportion Non-Retail Business Acres'+ '\\n'+ 'and Nitric Oxide Concentrations'\n",
    ")\n",
    "ax"
   ]
  },
  {
   "cell_type": "markdown",
   "id": "c4ae4a73",
   "metadata": {},
   "source": [
    "#### Visualization 4 Review<br>\n",
    "The visualization above is a scatterplot illustrating the relationship between the porportion of non-retail business acres and Nitric Oxide concentrations measured in parts per million (PPM). When looking at the relationship between the two variables there seems to be a positive correlation between the poportion of non-retail business acres and the concentrations of Nitric Oxides that flattens out at a Nitric Oxide concentration of 0.6 PPM.<br><br>\n",
    "Furthermore, a noticible number of towns have porportion of non-retail business acres around 18% and among those the concentrations exceed 0.6 ppm. This is possibly due to those towns having older non-retail commercial acreaege and thus longer exposure to Nitric Oxide and also being towns that once had far more non-retail commercial acreage that has since been converted to either retail or residential. "
   ]
  },
  {
   "cell_type": "markdown",
   "id": "a7fbce42",
   "metadata": {},
   "source": [
    "#### Visualization 5 \n",
    "*Create a histogram for the pupil to teacher ratio variable*\n"
   ]
  },
  {
   "cell_type": "code",
   "execution_count": 13,
   "id": "6163a393",
   "metadata": {},
   "outputs": [
    {
     "data": {
      "image/png": "[encoded data removed]",
      "text/plain": [
       "<Figure size 500x500 with 1 Axes>"
      ]
     },
     "metadata": {},
     "output_type": "display_data"
    }
   ],
   "source": [
    "ax = sns.displot(\n",
    "    boston_df['PTRATIO']\n",
    "    ,kde = True\n",
    ").set(\n",
    "    xlabel = 'Pupil to Teacher Ratio'\n",
    "    ,ylabel = 'Frequency'\n",
    "    ,title = 'Distribution of Pupil to Teacher Ratios' + '\\n'+ 'Across Towns in the Boston Metropolitan Area'\n",
    ")"
   ]
  },
  {
   "cell_type": "markdown",
   "id": "15b14e7b",
   "metadata": {},
   "source": [
    "#### Visualization 5 Review<br>\n",
    "The visualization above illustrates the distribution of pupil to teacher ratios across towns in the Boston Metropolitan Area. The ratios range from 12.6 to 22 pupils per teacher and the overall distribution skews to the right with the most frequent ratio bin being betwen 20 and 21 pupils per teacher. "
   ]
  },
  {
   "cell_type": "markdown",
   "id": "3b9fcf3d",
   "metadata": {},
   "source": [
    "### **Task 3: Statistical Tests**"
   ]
  },
  {
   "cell_type": "markdown",
   "id": "2699bbdb",
   "metadata": {},
   "source": [
    "#### Test 1 \n",
    "*Is there a significant difference in median value of houses bounded by the Charles river or not?*\n",
    "\n",
    "In this question, the independent variable is whether or not the home is bounded by the Charles River and the depenedent variable is the median value of the home. Therefore, our hypotheses are as follows: \n",
    "* $H_0: µ_1 = µ_2$ (\"there is no difference in home values between the bounded and unbounded\")\n",
    "* $H_1: µ_1 ≠ µ_2$ (\"there is a difference in home values between the bounded and unbounded\")\n",
    "\n",
    "Since the independent variable is cateogrical and the dependent variable is continuous, a t-test can be used to test this hypothesis. However, before the t-test can be executed, two assumptions need to be verified: \n",
    "1. The distribution of the home values is normal. \n",
    "2. Homogeneity of variance between the two categories. \n"
   ]
  },
  {
   "cell_type": "code",
   "execution_count": 14,
   "id": "cc3db970",
   "metadata": {},
   "outputs": [
    {
     "data": {
      "image/png": "[encoded data removed]",
      "text/plain": [
       "<Figure size 500x500 with 1 Axes>"
      ]
     },
     "metadata": {},
     "output_type": "display_data"
    }
   ],
   "source": [
    "# Determine if the distibution of the home values is normal \n",
    "ax = sns.displot(\n",
    "    boston_df['MEDV']\n",
    "    ,kde = True\n",
    ").set(\n",
    "    xlabel = 'Median House Values'+'\\n'+'(Thoudands USD)'\n",
    "    ,ylabel = 'Frequency'\n",
    "    ,title = 'Distribution of Median Home Values' + '\\n'+ 'Across Towns in the Boston Metropolitan Area'\n",
    ")"
   ]
  },
  {
   "cell_type": "code",
   "execution_count": 15,
   "id": "9e4d8e54",
   "metadata": {},
   "outputs": [
    {
     "data": {
      "text/plain": [
       "LeveneResult(statistic=np.float64(8.75190489604598), pvalue=np.float64(0.003238119367639829))"
      ]
     },
     "execution_count": 15,
     "metadata": {},
     "output_type": "execute_result"
    }
   ],
   "source": [
    "# Levene's Test will be used to determine homogeneity of variance. \n",
    "boston_df['CHAS2'] = boston_df['CHAS'].replace({0.0: \"Not Bounded\", 1.0: \"Bounded\"})\n",
    "scipy.stats.levene(boston_df[boston_df['CHAS2'] == 'Not Bounded']['MEDV'],\n",
    "                   boston_df[boston_df['CHAS2'] == 'Bounded']['MEDV'], center='mean')\n"
   ]
  },
  {
   "cell_type": "markdown",
   "id": "a25eb664",
   "metadata": {},
   "source": [
    "The distribution plot above illutrates the normal distribution of the nmedian house values. Therefore the first assumption is met. As for the second assumption, when the Levene test was executed to determine the homogenity of the variances between the two groups of the independent variable, the pvalue was less than 0.05, thus the variances are not equal. However, this should not stop us from conducting the t-test as there are t-tests that exist in cases where there is no homogeneity in the variances. Please see below for the code used to conduct the t-test. "
   ]
  },
  {
   "cell_type": "code",
   "execution_count": 16,
   "id": "2902b846",
   "metadata": {},
   "outputs": [
    {
     "data": {
      "text/plain": [
       "TtestResult(statistic=np.float64(-3.113291312794837), pvalue=np.float64(0.0035671700981375174), df=np.float64(36.876408797611994))"
      ]
     },
     "execution_count": 16,
     "metadata": {},
     "output_type": "execute_result"
    }
   ],
   "source": [
    "#Conduct t-test with no homogenity in the variances \n",
    "scipy.stats.ttest_ind(boston_df[boston_df['CHAS2'] == 'Not Bounded']['MEDV'],\n",
    "                   boston_df[boston_df['CHAS2'] == 'Bounded']['MEDV'], equal_var = False)"
   ]
  },
  {
   "cell_type": "markdown",
   "id": "d89311fc",
   "metadata": {},
   "source": [
    "**Conclusion**\n",
    "Since the pvalue (0.0036) is less than 0.05, we reject the null hypothesis. "
   ]
  },
  {
   "cell_type": "markdown",
   "id": "02725c02",
   "metadata": {},
   "source": [
    "#### Test 2\n",
    "*Is there a difference in Median values of houses (MEDV) for each proportion of owner occupied units built prior to 1940 (AGE)?*\n",
    "\n",
    "In this problem statement, the independent variable is the porportion of owner occupied unites built prior to 1940 discretized into three groups (<=35%, 35-70%, and >=70%) and the dependent variable is the median values of houses.  Since thee question is asking to determine if there is a difference between the home values among the three groups, the hypotheses to be tested are as follows: \n",
    "* $H_0: µ_1 = µ_2 = µ_3$ (There is no difference in the median value of homes among the three groups)\n",
    "* $H_1:$ The median value differs for atleast one group \n",
    "Since the independent variable is categorical with more than 2 categories and the dependent variable is continuous, we will use ANOVA to test these hypotheses. \n"
   ]
  },
  {
   "cell_type": "code",
   "execution_count": 17,
   "id": "5dfac599",
   "metadata": {},
   "outputs": [
    {
     "data": {
      "text/plain": [
       "LeveneResult(statistic=np.float64(2.7806200293748304), pvalue=np.float64(0.06295337343259205))"
      ]
     },
     "execution_count": 17,
     "metadata": {},
     "output_type": "execute_result"
    }
   ],
   "source": [
    "#test for equality of variance \n",
    "scipy.stats.levene(boston_df[boston_df['age_group'] == '<=35%']['MEDV'],\n",
    "                   boston_df[boston_df['age_group'] == '35-70%']['MEDV'], \n",
    "                   boston_df[boston_df['age_group'] == '>=70%']['MEDV'], \n",
    "                   center='mean')"
   ]
  },
  {
   "cell_type": "markdown",
   "id": "ac5925f3",
   "metadata": {},
   "source": [
    "Since the pvalue from the Levene test (0.063) is greater than 0.05, we can assume that there is an equality of variances and thus can proceed with the ANOVA test.  "
   ]
  },
  {
   "cell_type": "code",
   "execution_count": 18,
   "id": "08f8b4e0",
   "metadata": {},
   "outputs": [
    {
     "name": "stdout",
     "output_type": "stream",
     "text": [
      "F_Statistic: 36.40764999196599, P-Value: 1.7105011022702984e-15\n"
     ]
    }
   ],
   "source": [
    "#define each of the three groups \n",
    "lessthan35 = boston_df[boston_df['age_group'] == '<=35%']['MEDV']\n",
    "thirtyto70 = boston_df[boston_df['age_group'] == '35-70%']['MEDV'] \n",
    "greaterthan70 = boston_df[boston_df['age_group'] == '>=70%']['MEDV']\n",
    "\n",
    "#Run the ANOVA \n",
    "f_statistic, p_value = scipy.stats.f_oneway(lessthan35, thirtyto70, greaterthan70)\n",
    "print(\"F_Statistic: {0}, P-Value: {1}\".format(f_statistic,p_value))\n"
   ]
  },
  {
   "cell_type": "markdown",
   "id": "06f2f493",
   "metadata": {},
   "source": [
    "**Conclusion**\n",
    "Since the pvalue (1.71X10^-15) is less than 0.05, we reject the null hypothesis that there is no difference. Therefore, there is evidence that there is a difference between these groups. "
   ]
  },
  {
   "cell_type": "markdown",
   "id": "f548525d",
   "metadata": {},
   "source": [
    "#### Test 3 \n",
    "*Can we conclude that there is no relationship between Nitric oxide concentrations and proportion of non-retail business acres per town?* \n",
    "\n",
    "In the problem statement provided, the independent variable is the porportion of non-retail business acres (NRBA) and the dependent variable is the concentration of Nitric Oxide (NOX). Since the question is asking if there is a relationship between the two, our hypothese are: \n",
    "* $H_0:$ NOX concentration not correlated with the porportion of NRBA\n",
    "* $H_1:$ NOX concentration is correlated with the porportion of NRNBA\n",
    "\n",
    "Since both variables are continuous, we will use the pearsons correlation to test if there is a relationship between the two. "
   ]
  },
  {
   "cell_type": "code",
   "execution_count": 19,
   "id": "65d2ba91",
   "metadata": {},
   "outputs": [
    {
     "data": {
      "text/plain": [
       "PearsonRResult(statistic=np.float64(0.763651446920915), pvalue=np.float64(7.913361061241532e-98))"
      ]
     },
     "execution_count": 19,
     "metadata": {},
     "output_type": "execute_result"
    }
   ],
   "source": [
    "scipy.stats.pearsonr(boston_df['INDUS'], boston_df['NOX'])"
   ]
  },
  {
   "cell_type": "markdown",
   "id": "4b14683c",
   "metadata": {},
   "source": [
    "**Conclusion**\n",
    "Since the pvalue (7.91 X 10^-98) is less than 0.05, we reject the null hypothesis. Therefore, there is a correlation between the two variables. "
   ]
  },
  {
   "cell_type": "markdown",
   "id": "d0bd14aa",
   "metadata": {},
   "source": [
    "#### Test 4 \n",
    "*What is the impact of an additional weighted distance  to the five Boston employment centres on the median value of owner occupied homes?*\n",
    "\n",
    "In this problem statement, the independent variable is the weighted distance to the employment centers and the dependent variable is the median home values. Since this is asking if the distance has an impact on the home values, the hypotheses are as follows: \n",
    " * $H_0:$ Distonce has no impact on values \n",
    "* $H_1:$ Distnace has impact on values \n",
    "\n",
    "Since both variables are continuous, we can use both a pearsons correlation or a regession to test if the distance has an impact on the values. "
   ]
  },
  {
   "cell_type": "code",
   "execution_count": 20,
   "id": "7ae10e5d",
   "metadata": {},
   "outputs": [
    {
     "data": {
      "text/plain": [
       "PearsonRResult(statistic=np.float64(0.24992873408590394), pvalue=np.float64(1.2066117273371133e-08))"
      ]
     },
     "execution_count": 20,
     "metadata": {},
     "output_type": "execute_result"
    }
   ],
   "source": [
    "#pearsons \n",
    "scipy.stats.pearsonr(boston_df['DIS'], boston_df['MEDV'])"
   ]
  },
  {
   "cell_type": "code",
   "execution_count": 21,
   "id": "cde1609b",
   "metadata": {},
   "outputs": [
    {
     "data": {
      "text/html": [
       "<table class=\"simpletable\">\n",
       "<caption>OLS Regression Results</caption>\n",
       "<tr>\n",
       "  <th>Dep. Variable:</th>          <td>MEDV</td>       <th>  R-squared:         </th> <td>   0.062</td>\n",
       "</tr>\n",
       "<tr>\n",
       "  <th>Model:</th>                   <td>OLS</td>       <th>  Adj. R-squared:    </th> <td>   0.061</td>\n",
       "</tr>\n",
       "<tr>\n",
       "  <th>Method:</th>             <td>Least Squares</td>  <th>  F-statistic:       </th> <td>   33.58</td>\n",
       "</tr>\n",
       "<tr>\n",
       "  <th>Date:</th>             <td>Sat, 21 Jun 2025</td> <th>  Prob (F-statistic):</th> <td>1.21e-08</td>\n",
       "</tr>\n",
       "<tr>\n",
       "  <th>Time:</th>                 <td>06:11:08</td>     <th>  Log-Likelihood:    </th> <td> -1823.9</td>\n",
       "</tr>\n",
       "<tr>\n",
       "  <th>No. Observations:</th>      <td>   506</td>      <th>  AIC:               </th> <td>   3652.</td>\n",
       "</tr>\n",
       "<tr>\n",
       "  <th>Df Residuals:</th>          <td>   504</td>      <th>  BIC:               </th> <td>   3660.</td>\n",
       "</tr>\n",
       "<tr>\n",
       "  <th>Df Model:</th>              <td>     1</td>      <th>                     </th>     <td> </td>   \n",
       "</tr>\n",
       "<tr>\n",
       "  <th>Covariance Type:</th>      <td>nonrobust</td>    <th>                     </th>     <td> </td>   \n",
       "</tr>\n",
       "</table>\n",
       "<table class=\"simpletable\">\n",
       "<tr>\n",
       "    <td></td>       <th>coef</th>     <th>std err</th>      <th>t</th>      <th>P>|t|</th>  <th>[0.025</th>    <th>0.975]</th>  \n",
       "</tr>\n",
       "<tr>\n",
       "  <th>const</th> <td>   18.3901</td> <td>    0.817</td> <td>   22.499</td> <td> 0.000</td> <td>   16.784</td> <td>   19.996</td>\n",
       "</tr>\n",
       "<tr>\n",
       "  <th>DIS</th>   <td>    1.0916</td> <td>    0.188</td> <td>    5.795</td> <td> 0.000</td> <td>    0.722</td> <td>    1.462</td>\n",
       "</tr>\n",
       "</table>\n",
       "<table class=\"simpletable\">\n",
       "<tr>\n",
       "  <th>Omnibus:</th>       <td>139.779</td> <th>  Durbin-Watson:     </th> <td>   0.570</td>\n",
       "</tr>\n",
       "<tr>\n",
       "  <th>Prob(Omnibus):</th> <td> 0.000</td>  <th>  Jarque-Bera (JB):  </th> <td> 305.104</td>\n",
       "</tr>\n",
       "<tr>\n",
       "  <th>Skew:</th>          <td> 1.466</td>  <th>  Prob(JB):          </th> <td>5.59e-67</td>\n",
       "</tr>\n",
       "<tr>\n",
       "  <th>Kurtosis:</th>      <td> 5.424</td>  <th>  Cond. No.          </th> <td>    9.32</td>\n",
       "</tr>\n",
       "</table><br/><br/>Notes:<br/>[1] Standard Errors assume that the covariance matrix of the errors is correctly specified."
      ],
      "text/latex": [
       "\\begin{center}\n",
       "\\begin{tabular}{lclc}\n",
       "\\toprule\n",
       "\\textbf{Dep. Variable:}    &       MEDV       & \\textbf{  R-squared:         } &     0.062   \\\\\n",
       "\\textbf{Model:}            &       OLS        & \\textbf{  Adj. R-squared:    } &     0.061   \\\\\n",
       "\\textbf{Method:}           &  Least Squares   & \\textbf{  F-statistic:       } &     33.58   \\\\\n",
       "\\textbf{Date:}             & Sat, 21 Jun 2025 & \\textbf{  Prob (F-statistic):} &  1.21e-08   \\\\\n",
       "\\textbf{Time:}             &     06:11:08     & \\textbf{  Log-Likelihood:    } &   -1823.9   \\\\\n",
       "\\textbf{No. Observations:} &         506      & \\textbf{  AIC:               } &     3652.   \\\\\n",
       "\\textbf{Df Residuals:}     &         504      & \\textbf{  BIC:               } &     3660.   \\\\\n",
       "\\textbf{Df Model:}         &           1      & \\textbf{                     } &             \\\\\n",
       "\\textbf{Covariance Type:}  &    nonrobust     & \\textbf{                     } &             \\\\\n",
       "\\bottomrule\n",
       "\\end{tabular}\n",
       "\\begin{tabular}{lcccccc}\n",
       "               & \\textbf{coef} & \\textbf{std err} & \\textbf{t} & \\textbf{P$> |$t$|$} & \\textbf{[0.025} & \\textbf{0.975]}  \\\\\n",
       "\\midrule\n",
       "\\textbf{const} &      18.3901  &        0.817     &    22.499  &         0.000        &       16.784    &       19.996     \\\\\n",
       "\\textbf{DIS}   &       1.0916  &        0.188     &     5.795  &         0.000        &        0.722    &        1.462     \\\\\n",
       "\\bottomrule\n",
       "\\end{tabular}\n",
       "\\begin{tabular}{lclc}\n",
       "\\textbf{Omnibus:}       & 139.779 & \\textbf{  Durbin-Watson:     } &    0.570  \\\\\n",
       "\\textbf{Prob(Omnibus):} &   0.000 & \\textbf{  Jarque-Bera (JB):  } &  305.104  \\\\\n",
       "\\textbf{Skew:}          &   1.466 & \\textbf{  Prob(JB):          } & 5.59e-67  \\\\\n",
       "\\textbf{Kurtosis:}      &   5.424 & \\textbf{  Cond. No.          } &     9.32  \\\\\n",
       "\\bottomrule\n",
       "\\end{tabular}\n",
       "%\\caption{OLS Regression Results}\n",
       "\\end{center}\n",
       "\n",
       "Notes: \\newline\n",
       " [1] Standard Errors assume that the covariance matrix of the errors is correctly specified."
      ],
      "text/plain": [
       "<class 'statsmodels.iolib.summary.Summary'>\n",
       "\"\"\"\n",
       "                            OLS Regression Results                            \n",
       "==============================================================================\n",
       "Dep. Variable:                   MEDV   R-squared:                       0.062\n",
       "Model:                            OLS   Adj. R-squared:                  0.061\n",
       "Method:                 Least Squares   F-statistic:                     33.58\n",
       "Date:                Sat, 21 Jun 2025   Prob (F-statistic):           1.21e-08\n",
       "Time:                        06:11:08   Log-Likelihood:                -1823.9\n",
       "No. Observations:                 506   AIC:                             3652.\n",
       "Df Residuals:                     504   BIC:                             3660.\n",
       "Df Model:                           1                                         \n",
       "Covariance Type:            nonrobust                                         \n",
       "==============================================================================\n",
       "                 coef    std err          t      P>|t|      [0.025      0.975]\n",
       "------------------------------------------------------------------------------\n",
       "const         18.3901      0.817     22.499      0.000      16.784      19.996\n",
       "DIS            1.0916      0.188      5.795      0.000       0.722       1.462\n",
       "==============================================================================\n",
       "Omnibus:                      139.779   Durbin-Watson:                   0.570\n",
       "Prob(Omnibus):                  0.000   Jarque-Bera (JB):              305.104\n",
       "Skew:                           1.466   Prob(JB):                     5.59e-67\n",
       "Kurtosis:                       5.424   Cond. No.                         9.32\n",
       "==============================================================================\n",
       "\n",
       "Notes:\n",
       "[1] Standard Errors assume that the covariance matrix of the errors is correctly specified.\n",
       "\"\"\""
      ]
     },
     "execution_count": 21,
     "metadata": {},
     "output_type": "execute_result"
    }
   ],
   "source": [
    "#regression\n",
    "## X is the input variables (or independent variables)\n",
    "X = boston_df['DIS']\n",
    "## y is the target/dependent variable\n",
    "y = boston_df['MEDV']\n",
    "## add an intercept (beta_0) to our model\n",
    "X = sm.add_constant(X) \n",
    "\n",
    "model = sm.OLS(y, X).fit()\n",
    "predictions = model.predict(X)\n",
    "\n",
    "# Print out the statistics\n",
    "model.summary()"
   ]
  },
  {
   "cell_type": "markdown",
   "id": "50d43447",
   "metadata": {},
   "source": [
    "**Conclusion**\n",
    "In both, the pvalue was 1.21x10^-8, which is less then 0.05, and thus we reject the null hypothesis. Distance to the employment centers does have an impact on the median home values. "
   ]
  }
 ],
 "metadata": {
  "kernelspec": {
   "display_name": "Python 3",
   "language": "python",
   "name": "python3"
  },
  "language_info": {
   "codemirror_mode": {
    "name": "ipython",
    "version": 3
   },
   "file_extension": ".py",
   "mimetype": "text/x-python",
   "name": "python",
   "nbconvert_exporter": "python",
   "pygments_lexer": "ipython3",
   "version": "3.12.10"
  }
 },
 "nbformat": 4,
 "nbformat_minor": 5
}
